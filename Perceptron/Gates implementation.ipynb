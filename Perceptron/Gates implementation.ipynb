{
 "cells": [
  {
   "attachments": {
    "and_gate.png": {
     "image/png": "[encoded data removed]"
    }
   },
   "cell_type": "markdown",
   "id": "7d66cdfd",
   "metadata": {},
   "source": [
    "## AND Gate:\n",
    "![and_gate.png](attachment:and_gate.png)"
   ]
  },
  {
   "cell_type": "code",
   "execution_count": 77,
   "id": "03976a47",
   "metadata": {},
   "outputs": [],
   "source": [
    "import numpy as np\n",
    "\n",
    "# implementing a simple perceptron\n",
    "def and_gate(x):\n",
    "    weights = np.array([1.6,0.5]) # the standard weights are decided prior itself. or can be done by trial-and-error\n",
    "    bias = -1.7\n",
    "    val = np.dot(weights,x) + bias\n",
    "    if val >= 0:\n",
    "        return 1\n",
    "    else:\n",
    "        return 0"
   ]
  },
  {
   "cell_type": "code",
   "execution_count": 78,
   "id": "a8998a53",
   "metadata": {},
   "outputs": [
    {
     "name": "stdout",
     "output_type": "stream",
     "text": [
      "0\n",
      "0\n",
      "0\n",
      "1\n"
     ]
    }
   ],
   "source": [
    "print(and_gate([0,0]))\n",
    "print(and_gate([0,1]))\n",
    "print(and_gate([1,0]))\n",
    "print(and_gate([1,1]))"
   ]
  },
  {
   "attachments": {
    "download.jpg": {
     "image/jpeg": "[encoded data removed]"
    }
   },
   "cell_type": "markdown",
   "id": "4cb304b7",
   "metadata": {},
   "source": [
    "## OR Gate:\n",
    "![download.jpg](attachment:download.jpg)"
   ]
  },
  {
   "cell_type": "code",
   "execution_count": 45,
   "id": "70b20dee",
   "metadata": {},
   "outputs": [],
   "source": [
    "def or_gate(x):\n",
    "    weights = np.array([1.2,1]) # the standard weights are decided prior itself. [wo: 1, w1: 1, b: -1]\n",
    "    bias = -0.5\n",
    "    val = np.dot(weights,x) + bias\n",
    "    if val >= 0:\n",
    "        return 1\n",
    "    else:\n",
    "        return 0"
   ]
  },
  {
   "cell_type": "code",
   "execution_count": 46,
   "id": "b630a906",
   "metadata": {},
   "outputs": [
    {
     "name": "stdout",
     "output_type": "stream",
     "text": [
      "0\n",
      "1\n",
      "1\n",
      "1\n"
     ]
    }
   ],
   "source": [
    "print(or_gate([0,0]))\n",
    "print(or_gate([0,1]))\n",
    "print(or_gate([1,0]))\n",
    "print(or_gate([1,1]))"
   ]
  },
  {
   "cell_type": "markdown",
   "id": "ad3840c7",
   "metadata": {},
   "source": [
    "## Objective: Neuron Simulation\n",
    "### Case Study:\n",
    "#### Assumption:\n",
    "You want to go to France only if both the following conditions are met:\n",
    "- x1 -> airline ticket is less than $1000 (Main constraint)\n",
    "- x2 -> if your friend can go with you, you travel (Secondary constraint)"
   ]
  },
  {
   "cell_type": "code",
   "execution_count": 1,
   "id": "360063e1",
   "metadata": {},
   "outputs": [
    {
     "name": "stdout",
     "output_type": "stream",
     "text": [
      "What is the price of the ticket?: 213213\n",
      "Is your friend going along with you? (yes or no): yes\n"
     ]
    },
    {
     "ename": "NameError",
     "evalue": "name 'np' is not defined",
     "output_type": "error",
     "traceback": [
      "\u001b[1;31m---------------------------------------------------------------------------\u001b[0m",
      "\u001b[1;31mNameError\u001b[0m                                 Traceback (most recent call last)",
      "\u001b[1;32m<ipython-input-1-db481995e74b>\u001b[0m in \u001b[0;36m<module>\u001b[1;34m\u001b[0m\n\u001b[0;32m     15\u001b[0m         \u001b[1;32mreturn\u001b[0m \u001b[1;36m0\u001b[0m\u001b[1;33m\u001b[0m\u001b[1;33m\u001b[0m\u001b[0m\n\u001b[0;32m     16\u001b[0m \u001b[1;33m\u001b[0m\u001b[0m\n\u001b[1;32m---> 17\u001b[1;33m \u001b[0mprint\u001b[0m\u001b[1;33m(\u001b[0m\u001b[1;34m\"Output: \"\u001b[0m\u001b[1;33m,\u001b[0m \u001b[0mand_gate\u001b[0m\u001b[1;33m(\u001b[0m\u001b[0minput1\u001b[0m\u001b[1;33m,\u001b[0m \u001b[0minput2\u001b[0m\u001b[1;33m,\u001b[0m \u001b[1;36m1.2\u001b[0m\u001b[1;33m,\u001b[0m \u001b[1;36m0.6\u001b[0m\u001b[1;33m,\u001b[0m \u001b[1;33m-\u001b[0m\u001b[1;36m1.5\u001b[0m\u001b[1;33m)\u001b[0m\u001b[1;33m)\u001b[0m\u001b[1;33m\u001b[0m\u001b[1;33m\u001b[0m\u001b[0m\n\u001b[0m",
      "\u001b[1;32m<ipython-input-1-db481995e74b>\u001b[0m in \u001b[0;36mand_gate\u001b[1;34m(input1, input2, w0, w1, bias)\u001b[0m\n\u001b[0;32m      6\u001b[0m \u001b[1;33m\u001b[0m\u001b[0m\n\u001b[0;32m      7\u001b[0m \u001b[1;32mdef\u001b[0m \u001b[0mand_gate\u001b[0m\u001b[1;33m(\u001b[0m\u001b[0minput1\u001b[0m\u001b[1;33m,\u001b[0m \u001b[0minput2\u001b[0m\u001b[1;33m,\u001b[0m \u001b[0mw0\u001b[0m\u001b[1;33m,\u001b[0m \u001b[0mw1\u001b[0m\u001b[1;33m,\u001b[0m \u001b[0mbias\u001b[0m\u001b[1;33m)\u001b[0m\u001b[1;33m:\u001b[0m\u001b[1;33m\u001b[0m\u001b[1;33m\u001b[0m\u001b[0m\n\u001b[1;32m----> 8\u001b[1;33m     \u001b[0mweights\u001b[0m \u001b[1;33m=\u001b[0m \u001b[0mnp\u001b[0m\u001b[1;33m.\u001b[0m\u001b[0marray\u001b[0m\u001b[1;33m(\u001b[0m\u001b[1;33m[\u001b[0m\u001b[0mw0\u001b[0m\u001b[1;33m,\u001b[0m\u001b[0mw1\u001b[0m\u001b[1;33m]\u001b[0m\u001b[1;33m)\u001b[0m\u001b[1;33m\u001b[0m\u001b[1;33m\u001b[0m\u001b[0m\n\u001b[0m\u001b[0;32m      9\u001b[0m     \u001b[0mbias\u001b[0m \u001b[1;33m=\u001b[0m \u001b[0mbias\u001b[0m\u001b[1;33m\u001b[0m\u001b[1;33m\u001b[0m\u001b[0m\n\u001b[0;32m     10\u001b[0m     \u001b[0mx\u001b[0m \u001b[1;33m=\u001b[0m \u001b[1;33m[\u001b[0m\u001b[0minput1\u001b[0m\u001b[1;33m,\u001b[0m \u001b[0minput2\u001b[0m\u001b[1;33m]\u001b[0m\u001b[1;33m\u001b[0m\u001b[1;33m\u001b[0m\u001b[0m\n",
      "\u001b[1;31mNameError\u001b[0m: name 'np' is not defined"
     ]
    }
   ],
   "source": [
    "x1 = int(input('What is the price of the ticket?: '))\n",
    "x2 = input(\"Is your friend going along with you? (yes or no): \")\n",
    "input1 = input2 = 1\n",
    "if x1>1000 or x2 == 'no':\n",
    "    input1 = input2 = 0\n",
    "\n",
    "def and_gate(input1, input2, w0, w1, bias):\n",
    "    weights = np.array([w0,w1])\n",
    "    bias = bias\n",
    "    x = [input1, input2]\n",
    "    val = np.dot(weights,x) + bias\n",
    "    if val >= 0:\n",
    "        return 1\n",
    "    else:\n",
    "        return 0\n",
    "\n",
    "print(\"Output: \", and_gate(input1, input2, 1.2, 0.6, -1.5))"
   ]
  },
  {
   "cell_type": "code",
   "execution_count": null,
   "id": "300b5b7f",
   "metadata": {},
   "outputs": [],
   "source": []
  }
 ],
 "metadata": {
  "kernelspec": {
   "display_name": "Python 3",
   "language": "python",
   "name": "python3"
  },
  "language_info": {
   "codemirror_mode": {
    "name": "ipython",
    "version": 3
   },
   "file_extension": ".py",
   "mimetype": "text/x-python",
   "name": "python",
   "nbconvert_exporter": "python",
   "pygments_lexer": "ipython3",
   "version": "3.8.8"
  }
 },
 "nbformat": 4,
 "nbformat_minor": 5
}
